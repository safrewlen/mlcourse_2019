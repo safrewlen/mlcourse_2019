{
 "cells": [
  {
   "cell_type": "code",
   "execution_count": 1,
   "metadata": {},
   "outputs": [],
   "source": [
    "import numpy as np\n",
    "import matplotlib.pyplot as plt"
   ]
  },
  {
   "cell_type": "code",
   "execution_count": 34,
   "metadata": {},
   "outputs": [],
   "source": [
    "def hyj(X, y, t):\n",
    "    Xl = X[X < t]\n",
    "    yl = y[:len(Xl)]\n",
    "    \n",
    "    Xr = X[X >= t]\n",
    "    yr = y[len(Xl):]\n",
    "#     print(yl.var(), 1.0 * len(yl)/len(y) * yl.var(), yr.var(), 1.0 * len(yr)/len(y) * yr.var())\n",
    "    L = 1.0 / len(y) *(np.sum((Xl - Xl.mean())**2) + np.sum((Xr - Xr.mean())**2))\n",
    "    return y.var() - 1.0 * len(yl)/len(y) * yl.var() - 1.0 * len(yr)/len(y) * yr.var(), L"
   ]
  },
  {
   "cell_type": "code",
   "execution_count": 35,
   "metadata": {},
   "outputs": [
    {
     "data": {
      "image/png": "[encoded data removed]",
      "text/plain": [
       "<Figure size 432x288 with 1 Axes>"
      ]
     },
     "metadata": {
      "needs_background": "light"
     },
     "output_type": "display_data"
    }
   ],
   "source": [
    "_a = []\n",
    "_b = []\n",
    "for t in np.linspace(-1.9,1.9,100):#[-1.9, -0.9, 0, 0.9, 1.9]:\n",
    "    _a.append(hyj(np.linspace(-2,2,60), np.linspace(-2,2,60)**3, t)[0])\n",
    "    _b.append(hyj(np.linspace(-2,2,60), np.linspace(-2,2,60)**3, t)[1])\n",
    "plt.plot(_a)\n",
    "plt.plot(_b)\n",
    "plt.show()"
   ]
  },
  {
   "cell_type": "code",
   "execution_count": null,
   "metadata": {},
   "outputs": [],
   "source": []
  },
  {
   "cell_type": "code",
   "execution_count": null,
   "metadata": {},
   "outputs": [],
   "source": []
  },
  {
   "cell_type": "code",
   "execution_count": null,
   "metadata": {},
   "outputs": [],
   "source": []
  }
 ],
 "metadata": {
  "kernelspec": {
   "display_name": "Python 3",
   "language": "python",
   "name": "python3"
  },
  "language_info": {
   "codemirror_mode": {
    "name": "ipython",
    "version": 3
   },
   "file_extension": ".py",
   "mimetype": "text/x-python",
   "name": "python",
   "nbconvert_exporter": "python",
   "pygments_lexer": "ipython3",
   "version": "3.7.3"
  }
 },
 "nbformat": 4,
 "nbformat_minor": 4
}
